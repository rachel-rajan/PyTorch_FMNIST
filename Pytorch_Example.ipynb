{
  "nbformat": 4,
  "nbformat_minor": 0,
  "metadata": {
    "colab": {
      "name": "Pytorch_Example.ipynb",
      "provenance": []
    },
    "kernelspec": {
      "name": "python3",
      "display_name": "Python 3"
    },
    "accelerator": "GPU"
  },
  "cells": [
    {
      "cell_type": "code",
      "metadata": {
        "id": "7O_sp7ZH0y7v",
        "colab_type": "code",
        "outputId": "6ed06e46-e867-48cc-a1c5-f696c0fb7d77",
        "colab": {
          "base_uri": "https://localhost:8080/",
          "height": 34
        }
      },
      "source": [
        "import torch\n",
        "torch.manual_seed(0)\n",
        "torch.backends.cudnn.deterministic = True\n",
        "torch.backends.cudnn.benchmark = False\n",
        "import numpy as np\n",
        "np.random.seed(0)\n",
        "\n",
        "device = torch.device('cuda' if torch.cuda.is_available() else 'cpu')\n",
        "print(device)"
      ],
      "execution_count": 0,
      "outputs": [
        {
          "output_type": "stream",
          "text": [
            "cuda\n"
          ],
          "name": "stdout"
        }
      ]
    },
    {
      "cell_type": "code",
      "metadata": {
        "id": "NRZRd5_M2cOf",
        "colab_type": "code",
        "colab": {}
      },
      "source": [
        "from torchvision import datasets, transforms\n",
        "import torch.nn.functional as F\n",
        "from torch import nn\n"
      ],
      "execution_count": 0,
      "outputs": []
    },
    {
      "cell_type": "code",
      "metadata": {
        "id": "jQrrHdX22zh6",
        "colab_type": "code",
        "colab": {}
      },
      "source": [
        "mean, std = (0.5,) , (0.5,)\n",
        "transform = transforms.Compose([transforms.ToTensor(), transforms.Normalize(mean, std)])\n",
        "#download dataset\n",
        "trainset = datasets.FashionMNIST('~/.pytorch/FMNIST/', download = True, train = True, transform = transform)\n",
        "trainloader = torch.utils.data.DataLoader(trainset, batch_size = 64, shuffle = True)\n",
        "\n",
        "testset = datasets.FashionMNIST('~/.pytorch/FMNIST/', download = True, train = False, transform = transform)\n",
        "testloader = torch.utils.data.DataLoader(testset, batch_size = 64, shuffle = False)\n"
      ],
      "execution_count": 0,
      "outputs": []
    },
    {
      "cell_type": "code",
      "metadata": {
        "id": "-Y7F1jpU7SFQ",
        "colab_type": "code",
        "outputId": "af1ecaca-5f4f-4fab-e41f-9f3f53f7ca5c",
        "colab": {
          "base_uri": "https://localhost:8080/",
          "height": 102
        }
      },
      "source": [
        "#define network\n",
        "class FMNIST(nn.Module):\n",
        "  def __init__(self):\n",
        "    super().__init__()\n",
        "    self.fc1 = nn.Linear(784, 128)\n",
        "    self.fc2 = nn.Linear(128, 64)\n",
        "    self.fc3 = nn.Linear(64, 10)\n",
        "\n",
        "  def forward(self, x):\n",
        "    x = x.view(x.shape[0], -1)\n",
        "    x = F.relu(self.fc1(x))\n",
        "    x = F.relu(self.fc2(x))\n",
        "    x = self.fc3(x)\n",
        "    x = F.log_softmax(x, dim =1)\n",
        "\n",
        "model = FMNIST()\n",
        "model.to(device)"
      ],
      "execution_count": 0,
      "outputs": [
        {
          "output_type": "execute_result",
          "data": {
            "text/plain": [
              "FMNIST(\n",
              "  (fc1): Linear(in_features=784, out_features=128, bias=True)\n",
              "  (fc2): Linear(in_features=128, out_features=64, bias=True)\n",
              "  (fc3): Linear(in_features=64, out_features=10, bias=True)\n",
              ")"
            ]
          },
          "metadata": {
            "tags": []
          },
          "execution_count": 5
        }
      ]
    },
    {
      "cell_type": "code",
      "metadata": {
        "id": "ZUWs6a-K8SQA",
        "colab_type": "code",
        "colab": {}
      },
      "source": [
        "#Loss, Autograd, and Optimizers\n",
        "from torch import optim\n",
        "\n",
        "criterion = nn.NLLLoss()\n",
        "optimizer = optim.SGD(model.parameters(), lr = 0.01)\n",
        "\n",
        "num_epochs = 3\n",
        "train_tracker, test_tracker, accuracy_tracker =[], [], []\n",
        "for i in range(num_epochs):\n",
        "  cum_loss = 0\n",
        "  for batch, (images, labels) in enumerate(trainloader,1):\n",
        "    images = images.to(device)\n",
        "    labels = labels.to(device)\n",
        "    optimizer.zero_grad()\n",
        "    output = model(images)\n",
        "    loss = criterion(output, labels)\n",
        "    loss.backward()\n",
        "    optimizer.step()\n",
        "\n",
        "    cum_loss += loss.item()\n",
        "  \n",
        "  train_tracker.appen(cum_loss/len(trainloader))\n",
        "  #print(f\"Training loss: {cum_loss/len(trainloader)}\")\n",
        "  print(f\"Epoch({i+1}/{num_epochs}) | Training loss: {cum_loss/len(trainloader)} |\", end ='')\n",
        "\n",
        "  test_loss = 0\n",
        "  num_correct = 0\n",
        "  total = 0\n",
        "  for batch, (images, labels) in enumerate(testloader, 1):\n",
        "    images = images.to(device)\n",
        "    labels = images.to(device)\n",
        "    logps = model(images)\n",
        "    batch_loss = criterion(logps, labels)\n",
        "    test_loss += batch_loss.item()\n",
        "    output = torch.exp(logps)\n",
        "    pred = torch.argmax(output, 1)\n",
        "    total += labels.size(0)\n",
        "    num_correct += (pred == labels).sum().item()\n",
        "    \n",
        "    test_tracker.append(test_loss/len(testloader))\n",
        "    print(f\"Test Loss : {test_loss/len(testloader)} |\", end = '')\n",
        "    accuracy_tracker.append(num_correct/total)\n",
        "    print(f'Accuracy: {num_correct/total}')\n",
        "  print(f'\\nNumber Correct : {num_correct}, Total: {total}')\n",
        "  print(f'Accuracy of the model after 30 epochs on 10000 test images: {num_correct*100/total}%')\n"
      ],
      "execution_count": 0,
      "outputs": []
    },
    {
      "cell_type": "code",
      "metadata": {
        "id": "6GXjbm9iyGZ0",
        "colab_type": "code",
        "colab": {}
      },
      "source": [
        "import matplotlib.pyplot as plt\n",
        "plt.plot(train_tracker, label = 'training_loss')\n",
        "plt.plot(test_tracker, label = 'testing_loss')\n",
        "plt.plot(accuracy_tracker, label = 'test_accuracy')\n",
        "plt.legend()"
      ],
      "execution_count": 0,
      "outputs": []
    },
    {
      "cell_type": "code",
      "metadata": {
        "id": "jr9RkdGTr8Br",
        "colab_type": "code",
        "colab": {}
      },
      "source": [
        "#testing phase\n",
        "import matplotlib.pyplot as plt\n",
        "images, labels = next(iter(testloader))\n",
        "\n",
        "test_image_id = 15\n",
        "img = images[test_image_id].view(1,784)\n",
        "\n",
        "model.to('cpu')\n",
        "with torch.no_grad():\n",
        "  logps = model(img)"
      ],
      "execution_count": 0,
      "outputs": []
    },
    {
      "cell_type": "code",
      "metadata": {
        "id": "mKkgtCUosWSN",
        "colab_type": "code",
        "colab": {}
      },
      "source": [
        "#ps = torch.exp(logps)\n",
        "#nps = ps.numpy()[0]"
      ],
      "execution_count": 0,
      "outputs": []
    },
    {
      "cell_type": "code",
      "metadata": {
        "id": "XCiQM3jusdlS",
        "colab_type": "code",
        "colab": {}
      },
      "source": [
        "FMNIST_labels = ['T-shirt/top', 'Trouser', 'Pullover', 'Dress', 'Coat', 'Sandal', 'Sport Shoes', 'Bag', 'Ankle Boot', 'Sneaker']\n",
        "plt.xticks(np.arrange(10), labels = FMNIST_labels, rotation = 'vertical')\n",
        "plt.bar(np.arrange(10), nps)"
      ],
      "execution_count": 0,
      "outputs": []
    },
    {
      "cell_type": "code",
      "metadata": {
        "id": "maOzSuWrt9t8",
        "colab_type": "code",
        "colab": {}
      },
      "source": [
        "def normalize(tensor):\n",
        "  tensor = tensor*0.5 + 0.5\n",
        "  return tensor\n",
        "\n",
        "img = img.view(28, -1)\n",
        "img = denormalize(img)\n",
        "plt.imshow(img, cmap = 'gray')"
      ],
      "execution_count": 0,
      "outputs": []
    }
  ]
}